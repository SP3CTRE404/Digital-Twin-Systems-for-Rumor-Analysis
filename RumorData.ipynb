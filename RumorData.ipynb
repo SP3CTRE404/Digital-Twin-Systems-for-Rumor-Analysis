{
 "cells": [
  {
   "cell_type": "code",
   "execution_count": 2,
   "id": "7af34743",
   "metadata": {},
   "outputs": [
    {
     "data": {
      "text/html": [
       "<div>\n",
       "<style scoped>\n",
       "    .dataframe tbody tr th:only-of-type {\n",
       "        vertical-align: middle;\n",
       "    }\n",
       "\n",
       "    .dataframe tbody tr th {\n",
       "        vertical-align: top;\n",
       "    }\n",
       "\n",
       "    .dataframe thead th {\n",
       "        text-align: right;\n",
       "    }\n",
       "</style>\n",
       "<table border=\"1\" class=\"dataframe\">\n",
       "  <thead>\n",
       "    <tr style=\"text-align: right;\">\n",
       "      <th></th>\n",
       "      <th>text</th>\n",
       "      <th>is_rumor</th>\n",
       "      <th>user.handle</th>\n",
       "      <th>topic</th>\n",
       "    </tr>\n",
       "  </thead>\n",
       "  <tbody>\n",
       "    <tr>\n",
       "      <th>0</th>\n",
       "      <td>Charlie Hebdo became well known for publishing...</td>\n",
       "      <td>0.0</td>\n",
       "      <td>BBCDanielS</td>\n",
       "      <td>charliehebdo</td>\n",
       "    </tr>\n",
       "    <tr>\n",
       "      <th>1</th>\n",
       "      <td>Now 10 dead in a shooting there today RT \"@BBC...</td>\n",
       "      <td>0.0</td>\n",
       "      <td>robbylevy</td>\n",
       "      <td>charliehebdo</td>\n",
       "    </tr>\n",
       "    <tr>\n",
       "      <th>2</th>\n",
       "      <td>@BBCDanielS @BBCWorld I'm guessing this is bei...</td>\n",
       "      <td>0.0</td>\n",
       "      <td>ModerateInAll</td>\n",
       "      <td>charliehebdo</td>\n",
       "    </tr>\n",
       "    <tr>\n",
       "      <th>3</th>\n",
       "      <td>@BBCDanielS @BBCWorld why would you mention th...</td>\n",
       "      <td>0.0</td>\n",
       "      <td>GabTarquini</td>\n",
       "      <td>charliehebdo</td>\n",
       "    </tr>\n",
       "    <tr>\n",
       "      <th>4</th>\n",
       "      <td>@BBCDanielS @BBCWorld perps identified?</td>\n",
       "      <td>0.0</td>\n",
       "      <td>freethought41</td>\n",
       "      <td>charliehebdo</td>\n",
       "    </tr>\n",
       "    <tr>\n",
       "      <th>...</th>\n",
       "      <td>...</td>\n",
       "      <td>...</td>\n",
       "      <td>...</td>\n",
       "      <td>...</td>\n",
       "    </tr>\n",
       "    <tr>\n",
       "      <th>62440</th>\n",
       "      <td>@AnonyOps @Xplant So that means its ok to torc...</td>\n",
       "      <td>1.0</td>\n",
       "      <td>RianAlden</td>\n",
       "      <td>ferguson</td>\n",
       "    </tr>\n",
       "    <tr>\n",
       "      <th>62441</th>\n",
       "      <td>@RianAlden not at all, but they need to change...</td>\n",
       "      <td>1.0</td>\n",
       "      <td>Xplant</td>\n",
       "      <td>ferguson</td>\n",
       "    </tr>\n",
       "    <tr>\n",
       "      <th>62442</th>\n",
       "      <td>@Xplant @AnonyOps Absoluteky.  But it pains me...</td>\n",
       "      <td>1.0</td>\n",
       "      <td>RianAlden</td>\n",
       "      <td>ferguson</td>\n",
       "    </tr>\n",
       "    <tr>\n",
       "      <th>62443</th>\n",
       "      <td>@Xplant @AnonyOps I'm curious how many of thes...</td>\n",
       "      <td>1.0</td>\n",
       "      <td>RianAlden</td>\n",
       "      <td>ferguson</td>\n",
       "    </tr>\n",
       "    <tr>\n",
       "      <th>62444</th>\n",
       "      <td>@Xplant @AnonyOps You get 15,000 people showin...</td>\n",
       "      <td>1.0</td>\n",
       "      <td>RianAlden</td>\n",
       "      <td>ferguson</td>\n",
       "    </tr>\n",
       "  </tbody>\n",
       "</table>\n",
       "<p>62445 rows × 4 columns</p>\n",
       "</div>"
      ],
      "text/plain": [
       "                                                    text  is_rumor  \\\n",
       "0      Charlie Hebdo became well known for publishing...       0.0   \n",
       "1      Now 10 dead in a shooting there today RT \"@BBC...       0.0   \n",
       "2      @BBCDanielS @BBCWorld I'm guessing this is bei...       0.0   \n",
       "3      @BBCDanielS @BBCWorld why would you mention th...       0.0   \n",
       "4                @BBCDanielS @BBCWorld perps identified?       0.0   \n",
       "...                                                  ...       ...   \n",
       "62440  @AnonyOps @Xplant So that means its ok to torc...       1.0   \n",
       "62441  @RianAlden not at all, but they need to change...       1.0   \n",
       "62442  @Xplant @AnonyOps Absoluteky.  But it pains me...       1.0   \n",
       "62443  @Xplant @AnonyOps I'm curious how many of thes...       1.0   \n",
       "62444  @Xplant @AnonyOps You get 15,000 people showin...       1.0   \n",
       "\n",
       "         user.handle         topic  \n",
       "0         BBCDanielS  charliehebdo  \n",
       "1          robbylevy  charliehebdo  \n",
       "2      ModerateInAll  charliehebdo  \n",
       "3        GabTarquini  charliehebdo  \n",
       "4      freethought41  charliehebdo  \n",
       "...              ...           ...  \n",
       "62440      RianAlden      ferguson  \n",
       "62441         Xplant      ferguson  \n",
       "62442      RianAlden      ferguson  \n",
       "62443      RianAlden      ferguson  \n",
       "62444      RianAlden      ferguson  \n",
       "\n",
       "[62445 rows x 4 columns]"
      ]
     },
     "execution_count": 2,
     "metadata": {},
     "output_type": "execute_result"
    }
   ],
   "source": [
    "import pandas as pd\n",
    "df = pd.read_csv('dataset.csv')\n",
    "\n",
    "df"
   ]
  },
  {
   "cell_type": "code",
   "execution_count": 3,
   "id": "dd1e40ce",
   "metadata": {},
   "outputs": [
    {
     "data": {
      "text/plain": [
       "text               0\n",
       "is_rumor           2\n",
       "user.handle        2\n",
       "topic          12777\n",
       "dtype: int64"
      ]
     },
     "execution_count": 3,
     "metadata": {},
     "output_type": "execute_result"
    }
   ],
   "source": [
    "# check null values\n",
    "df.isnull().sum()"
   ]
  },
  {
   "cell_type": "code",
   "execution_count": 4,
   "id": "2ac051b6",
   "metadata": {},
   "outputs": [],
   "source": [
    "#  check usability of the dataset"
   ]
  },
  {
   "cell_type": "code",
   "execution_count": 5,
   "id": "766f1cdd",
   "metadata": {},
   "outputs": [
    {
     "name": "stdout",
     "output_type": "stream",
     "text": [
      "<class 'pandas.core.frame.DataFrame'>\n",
      "RangeIndex: 62445 entries, 0 to 62444\n",
      "Data columns (total 4 columns):\n",
      " #   Column       Non-Null Count  Dtype  \n",
      "---  ------       --------------  -----  \n",
      " 0   text         62445 non-null  object \n",
      " 1   is_rumor     62443 non-null  float64\n",
      " 2   user.handle  62443 non-null  object \n",
      " 3   topic        49668 non-null  object \n",
      "dtypes: float64(1), object(3)\n",
      "memory usage: 1.9+ MB\n"
     ]
    }
   ],
   "source": [
    "df.info()\n"
   ]
  },
  {
   "cell_type": "code",
   "execution_count": 7,
   "id": "362749b8",
   "metadata": {},
   "outputs": [
    {
     "name": "stdout",
     "output_type": "stream",
     "text": [
      "                                                    text  is_rumor  \\\n",
      "25491                                            @cnnbrk       0.0   \n",
      "25492  “@cnnbrk: Residents of Dammartin-en-Goele told...       0.0   \n",
      "25493  @barneytotos @cnnbrk I doubt they gon allow th...       0.0   \n",
      "25494  “@cnnbrk: Residents of Dammartin-en-Goele told...       0.0   \n",
      "25495  @cnnbrk If they are taken out I hope the polic...       0.0   \n",
      "...                                                  ...       ...   \n",
      "38265  “@SkyNewsBreak: Update - PA: gunman holding ho...       1.0   \n",
      "38266  @SkyNewsBreak ...... I hope it was VERY painfu...       1.0   \n",
      "38267  @maisy59 @SkyNewsBreak \"them all\" there was tw...       1.0   \n",
      "50394                           @RT_com @NastiaChurkina        NaN   \n",
      "50395                     Unite and march on Washington        NaN   \n",
      "\n",
      "         user.handle     topic  \n",
      "25491    barneytotos       NaN  \n",
      "25492     gixxernoob       NaN  \n",
      "25493     trotromate       NaN  \n",
      "25494      luismeloc       NaN  \n",
      "25495  donnakaye2014       NaN  \n",
      "...              ...       ...  \n",
      "38265          NoyH9       NaN  \n",
      "38266    philippa888       NaN  \n",
      "38267      bashman99       NaN  \n",
      "50394            NaN  ferguson  \n",
      "50395            NaN  ferguson  \n",
      "\n",
      "[12779 rows x 4 columns]\n"
     ]
    }
   ],
   "source": [
    "#  print null value tuples\n",
    "null_tuples = df[df.isnull().any(axis=1)]\n",
    "print(null_tuples)\n"
   ]
  },
  {
   "cell_type": "code",
   "execution_count": 8,
   "id": "4e231ebb",
   "metadata": {},
   "outputs": [],
   "source": [
    "# remove the null values\n",
    "df = df.dropna()"
   ]
  },
  {
   "cell_type": "code",
   "execution_count": 9,
   "id": "86c70d83",
   "metadata": {},
   "outputs": [
    {
     "name": "stdout",
     "output_type": "stream",
     "text": [
      "<class 'pandas.core.frame.DataFrame'>\n",
      "Index: 49666 entries, 0 to 62444\n",
      "Data columns (total 4 columns):\n",
      " #   Column       Non-Null Count  Dtype  \n",
      "---  ------       --------------  -----  \n",
      " 0   text         49666 non-null  object \n",
      " 1   is_rumor     49666 non-null  float64\n",
      " 2   user.handle  49666 non-null  object \n",
      " 3   topic        49666 non-null  object \n",
      "dtypes: float64(1), object(3)\n",
      "memory usage: 1.9+ MB\n"
     ]
    }
   ],
   "source": [
    "df.info()"
   ]
  },
  {
   "cell_type": "code",
   "execution_count": 10,
   "id": "2bf53894",
   "metadata": {},
   "outputs": [],
   "source": [
    "# save into a \"CleanDataset.csv\" file\n",
    "df.to_csv('CleanDataset.csv', index=False)"
   ]
  },
  {
   "cell_type": "code",
   "execution_count": null,
   "id": "231b727d",
   "metadata": {},
   "outputs": [],
   "source": []
  }
 ],
 "metadata": {
  "kernelspec": {
   "display_name": "myenv",
   "language": "python",
   "name": "python3"
  },
  "language_info": {
   "codemirror_mode": {
    "name": "ipython",
    "version": 3
   },
   "file_extension": ".py",
   "mimetype": "text/x-python",
   "name": "python",
   "nbconvert_exporter": "python",
   "pygments_lexer": "ipython3",
   "version": "3.13.7"
  }
 },
 "nbformat": 4,
 "nbformat_minor": 5
}
