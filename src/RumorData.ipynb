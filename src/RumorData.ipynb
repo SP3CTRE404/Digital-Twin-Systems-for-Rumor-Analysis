{
  "cells": [
    {
      "cell_type": "code",
      "execution_count": null,
      "id": "d57d8f0b",
      "metadata": {
        "id": "d57d8f0b",
        "outputId": "56238c92-259b-4740-fe6f-6f14ec324949"
      },
      "outputs": [
        {
          "data": {
            "text/plain": [
              "'d:\\\\Digital-Twin-Systems-for-Rumor-Analysis\\\\src'"
            ]
          },
          "execution_count": 8,
          "metadata": {},
          "output_type": "execute_result"
        }
      ],
      "source": [
        "import os\n",
        "os.getcwd()"
      ]
    },
    {
      "cell_type": "code",
      "source": [
        "from google.colab import drive\n",
        "drive.mount('/content/drive')"
      ],
      "metadata": {
        "id": "Le2-onadvYF2"
      },
      "id": "Le2-onadvYF2",
      "execution_count": null,
      "outputs": []
    },
    {
      "cell_type": "code",
      "execution_count": null,
      "id": "7af34743",
      "metadata": {
        "id": "7af34743",
        "outputId": "31b5cc74-1332-473b-c7ad-9348a607576c"
      },
      "outputs": [
        {
          "data": {
            "text/html": [
              "<div>\n",
              "<style scoped>\n",
              "    .dataframe tbody tr th:only-of-type {\n",
              "        vertical-align: middle;\n",
              "    }\n",
              "\n",
              "    .dataframe tbody tr th {\n",
              "        vertical-align: top;\n",
              "    }\n",
              "\n",
              "    .dataframe thead th {\n",
              "        text-align: right;\n",
              "    }\n",
              "</style>\n",
              "<table border=\"1\" class=\"dataframe\">\n",
              "  <thead>\n",
              "    <tr style=\"text-align: right;\">\n",
              "      <th></th>\n",
              "      <th>text</th>\n",
              "      <th>is_rumor</th>\n",
              "      <th>user.handle</th>\n",
              "      <th>topic</th>\n",
              "      <th>annotation</th>\n",
              "    </tr>\n",
              "  </thead>\n",
              "  <tbody>\n",
              "    <tr>\n",
              "      <th>0</th>\n",
              "      <td>Charlie Hebdo became well known for publishing...</td>\n",
              "      <td>0.0</td>\n",
              "      <td>BBCDanielS</td>\n",
              "      <td>charliehebdo</td>\n",
              "      <td>True</td>\n",
              "    </tr>\n",
              "    <tr>\n",
              "      <th>1</th>\n",
              "      <td>Now 10 dead in a shooting there today RT \"@BBC...</td>\n",
              "      <td>0.0</td>\n",
              "      <td>robbylevy</td>\n",
              "      <td>charliehebdo</td>\n",
              "      <td>True</td>\n",
              "    </tr>\n",
              "    <tr>\n",
              "      <th>2</th>\n",
              "      <td>@BBCDanielS @BBCWorld I'm guessing this is bei...</td>\n",
              "      <td>0.0</td>\n",
              "      <td>ModerateInAll</td>\n",
              "      <td>charliehebdo</td>\n",
              "      <td>True</td>\n",
              "    </tr>\n",
              "    <tr>\n",
              "      <th>3</th>\n",
              "      <td>@BBCDanielS @BBCWorld why would you mention th...</td>\n",
              "      <td>0.0</td>\n",
              "      <td>GabTarquini</td>\n",
              "      <td>charliehebdo</td>\n",
              "      <td>True</td>\n",
              "    </tr>\n",
              "    <tr>\n",
              "      <th>4</th>\n",
              "      <td>@BBCDanielS @BBCWorld perps identified?</td>\n",
              "      <td>0.0</td>\n",
              "      <td>freethought41</td>\n",
              "      <td>charliehebdo</td>\n",
              "      <td>True</td>\n",
              "    </tr>\n",
              "  </tbody>\n",
              "</table>\n",
              "</div>"
            ],
            "text/plain": [
              "                                                text  is_rumor    user.handle  \\\n",
              "0  Charlie Hebdo became well known for publishing...       0.0     BBCDanielS   \n",
              "1  Now 10 dead in a shooting there today RT \"@BBC...       0.0      robbylevy   \n",
              "2  @BBCDanielS @BBCWorld I'm guessing this is bei...       0.0  ModerateInAll   \n",
              "3  @BBCDanielS @BBCWorld why would you mention th...       0.0    GabTarquini   \n",
              "4            @BBCDanielS @BBCWorld perps identified?       0.0  freethought41   \n",
              "\n",
              "          topic  annotation  \n",
              "0  charliehebdo        True  \n",
              "1  charliehebdo        True  \n",
              "2  charliehebdo        True  \n",
              "3  charliehebdo        True  \n",
              "4  charliehebdo        True  "
            ]
          },
          "execution_count": 2,
          "metadata": {},
          "output_type": "execute_result"
        }
      ],
      "source": [
        "import pandas as pd\n",
        "# Load the dataset\n",
        "file_path = '/Digital-Twin-Systems-for-Rumor-Analysis/datasets/AnnotatedDataset.csv'\n",
        "df = pd.read_csv(file_path)\n",
        "\n",
        "df.head()"
      ]
    },
    {
      "cell_type": "code",
      "execution_count": null,
      "id": "766f1cdd",
      "metadata": {
        "id": "766f1cdd",
        "outputId": "e675f22c-c5d0-49fe-efc4-78a1469ffcbd"
      },
      "outputs": [
        {
          "name": "stdout",
          "output_type": "stream",
          "text": [
            "<class 'pandas.core.frame.DataFrame'>\n",
            "RangeIndex: 49666 entries, 0 to 49665\n",
            "Data columns (total 5 columns):\n",
            " #   Column       Non-Null Count  Dtype  \n",
            "---  ------       --------------  -----  \n",
            " 0   text         49666 non-null  object \n",
            " 1   is_rumor     49666 non-null  float64\n",
            " 2   user.handle  49666 non-null  object \n",
            " 3   topic        49666 non-null  object \n",
            " 4   annotation   49666 non-null  bool   \n",
            "dtypes: bool(1), float64(1), object(3)\n",
            "memory usage: 1.6+ MB\n"
          ]
        }
      ],
      "source": [
        "df.info()\n"
      ]
    },
    {
      "cell_type": "code",
      "execution_count": null,
      "id": "ee4e5987",
      "metadata": {
        "id": "ee4e5987",
        "outputId": "4a477563-8759-445f-ec44-e00447c1291d"
      },
      "outputs": [
        {
          "name": "stdout",
          "output_type": "stream",
          "text": [
            "Applied stance mapping to create a new 'stance' column.\n",
            "\n",
            "SUCCESS: All annotation labels were mapped successfully.\n",
            "\n",
            "--- Sample of the processed data ---\n",
            "                                                 text  annotation   stance\n",
            "0   Charlie Hebdo became well known for publishing...        True  support\n",
            "1   Now 10 dead in a shooting there today RT \"@BBC...        True  support\n",
            "2   @BBCDanielS @BBCWorld I'm guessing this is bei...        True  support\n",
            "3   @BBCDanielS @BBCWorld why would you mention th...        True  support\n",
            "4             @BBCDanielS @BBCWorld perps identified?        True  support\n",
            "5         @BBCDanielS @BBCWorld who is charlie hebdo?        True  support\n",
            "6          @im_a_5H_Voter A French satirical magazine        True  support\n",
            "7   @GabTarquini @BBCDanielS @BBCWorld Maybe becau...        True  support\n",
            "8   @S_Jakobsen @BBCDanielS @BBCWorld what's your ...        True  support\n",
            "9   @GabTarquini @BBCDanielS @BBCWorld Several men...        True  support\n",
            "10  @GabTarquini @BBCDanielS @BBCWorld Cossette, a...        True  support\n",
            "11  @S_Jakobsen @BBCDanielS @BBCWorld not quite su...        True  support\n",
            "12  @BBCDanielS @GCGATOR24 I hope they remain open...        True  support\n",
            "13  @GabTarquini @BBCDanielS @BBCWorld Oh come on....        True  support\n",
            "14  @GabTarquini @BBCDanielS @BBCWorld Anyways, I ...        True  support\n",
            "------------------------------------\n",
            "\n",
            "Processed data has been saved to '/Digital-Twin-Systems-for-Rumor-Analysis/datasets/dataset_with_stances.csv'.\n"
          ]
        }
      ],
      "source": [
        "stance_mapping = {\n",
        "    # Support Labels\n",
        "    'true': 'support',\n",
        "    'agreed': 'support',\n",
        "    True: 'support',  # Added boolean True\n",
        "\n",
        "    # Deny Labels\n",
        "    'false': 'deny',\n",
        "    'disagreed': 'deny',\n",
        "    False: 'deny', # Added boolean False\n",
        "\n",
        "    # Query Labels\n",
        "    'appeal-for-more-information': 'query',\n",
        "\n",
        "    # Comment Labels (for general discussion or unverified claims)\n",
        "    'unverified': 'comment',\n",
        "    'comment': 'comment',\n",
        "    'discuss': 'comment'\n",
        "}\n",
        "\n",
        "# --- 3. Apply the Mapping ---\n",
        "# Create a new 'stance' column based on the 'annotation' column.\n",
        "df['stance'] = df['annotation'].map(stance_mapping)\n",
        "print(\"Applied stance mapping to create a new 'stance' column.\")\n",
        "\n",
        "# --- 4. Verification ---\n",
        "# Check if any annotations were not mapped. This is important for data quality.\n",
        "unmapped_count = df['stance'].isnull().sum()\n",
        "if unmapped_count > 0:\n",
        "    print(f\"\\nWARNING: {unmapped_count} annotations could not be mapped.\")\n",
        "    unmapped_values = df[df['stance'].isnull()]['annotation'].unique()\n",
        "    print(\"The following unique values were not found in the mapping dictionary:\")\n",
        "    print(unmapped_values)\n",
        "    print(\"Please add them to the 'stance_mapping' dictionary and rerun the script.\")\n",
        "else:\n",
        "    print(\"\\nSUCCESS: All annotation labels were mapped successfully.\")\n",
        "\n",
        "# Display the first 15 rows to show the original annotation and the new stance\n",
        "print(\"\\n--- Sample of the processed data ---\")\n",
        "print(df[['text', 'annotation', 'stance']].head(15))\n",
        "print(\"------------------------------------\")\n",
        "\n",
        "\n",
        "# --- 5. Save the Processed Data ---\n",
        "# Save the updated DataFrame to a new CSV file for the next steps.\n",
        "output_filename = '/Digital-Twin-Systems-for-Rumor-Analysis/datasets/dataset_with_stances.csv'\n",
        "# df.to_csv(output_filename, index=False)\n",
        "print(f\"\\nProcessed data has been saved to '{output_filename}'.\")\n"
      ]
    },
    {
      "cell_type": "code",
      "execution_count": null,
      "id": "7aebd5cc",
      "metadata": {
        "id": "7aebd5cc",
        "outputId": "3c81df4a-748b-4b10-bedc-4770f355ade1"
      },
      "outputs": [
        {
          "name": "stdout",
          "output_type": "stream",
          "text": [
            "Applying sentiment analysis... This may take a moment for a large dataset.\n",
            "Sentiment analysis complete.\n",
            "\n",
            "--- Sample of the processed data with sentiment labels ---\n",
            "                                                 text   stance sentiment\n",
            "0   Charlie Hebdo became well known for publishing...  support  positive\n",
            "1   Now 10 dead in a shooting there today RT \"@BBC...  support  negative\n",
            "2   @BBCDanielS @BBCWorld I'm guessing this is bei...  support  negative\n",
            "3   @BBCDanielS @BBCWorld why would you mention th...  support   neutral\n",
            "4             @BBCDanielS @BBCWorld perps identified?  support   neutral\n",
            "5         @BBCDanielS @BBCWorld who is charlie hebdo?  support   neutral\n",
            "6          @im_a_5H_Voter A French satirical magazine  support   neutral\n",
            "7   @GabTarquini @BBCDanielS @BBCWorld Maybe becau...  support   neutral\n",
            "8   @S_Jakobsen @BBCDanielS @BBCWorld what's your ...  support   neutral\n",
            "9   @GabTarquini @BBCDanielS @BBCWorld Several men...  support   neutral\n",
            "10  @GabTarquini @BBCDanielS @BBCWorld Cossette, a...  support  positive\n",
            "11  @S_Jakobsen @BBCDanielS @BBCWorld not quite su...  support  negative\n",
            "12  @BBCDanielS @GCGATOR24 I hope they remain open...  support  negative\n",
            "13  @GabTarquini @BBCDanielS @BBCWorld Oh come on....  support  positive\n",
            "14  @GabTarquini @BBCDanielS @BBCWorld Anyways, I ...  support  negative\n",
            "----------------------------------------------------------\n",
            "\n",
            "Processed data has been saved to '/Digital-Twin-Systems-for-Rumor-Analysis/datasets/dataset_with_stances.csv'.\n",
            "This file is now ready for the next step: structuring conversations.\n"
          ]
        }
      ],
      "source": [
        "from vaderSentiment.vaderSentiment import SentimentIntensityAnalyzer\n",
        "\n",
        "stance = pd.read_csv('/Digital-Twin-Systems-for-Rumor-Analysis/datasets/dataset_with_stances.csv')\n",
        "analyzer = SentimentIntensityAnalyzer()\n",
        "\n",
        "def get_sentiment(text):\n",
        "    if not isinstance(text, str):\n",
        "        return 'neutral'\n",
        "\n",
        "    scores = analyzer.polarity_scores(text)\n",
        "    compound_score = scores['compound']\n",
        "\n",
        "    if compound_score >= 0.05:\n",
        "        return 'positive'\n",
        "    elif compound_score <= -0.05:\n",
        "        return 'negative'\n",
        "    else:\n",
        "        return 'neutral'\n",
        "\n",
        "print(\"Applying sentiment analysis... This may take a moment for a large dataset.\")\n",
        "stance['sentiment'] = stance['text'].fillna('').apply(get_sentiment)\n",
        "print(\"Sentiment analysis complete.\")\n",
        "\n",
        "print(\"\\n--- Sample of the processed data with sentiment labels ---\")\n",
        "print(stance[['text', 'stance', 'sentiment']].head(15))\n",
        "print(\"----------------------------------------------------------\")\n",
        "\n",
        "output_filename = '/Digital-Twin-Systems-for-Rumor-Analysis/datasets/dataset_with_stances.csv'\n",
        "# stance.to_csv(output_filename, index=False)\n",
        "print(f\"\\nProcessed data has been saved to '{output_filename}'.\")\n",
        "print(\"This file is now ready for the next step: structuring conversations.\")\n"
      ]
    },
    {
      "cell_type": "code",
      "execution_count": null,
      "id": "9561bc5c",
      "metadata": {
        "id": "9561bc5c",
        "outputId": "42fd9c8b-6c3e-46f9-fd54-ab826272703c"
      },
      "outputs": [
        {
          "data": {
            "text/html": [
              "<div>\n",
              "<style scoped>\n",
              "    .dataframe tbody tr th:only-of-type {\n",
              "        vertical-align: middle;\n",
              "    }\n",
              "\n",
              "    .dataframe tbody tr th {\n",
              "        vertical-align: top;\n",
              "    }\n",
              "\n",
              "    .dataframe thead th {\n",
              "        text-align: right;\n",
              "    }\n",
              "</style>\n",
              "<table border=\"1\" class=\"dataframe\">\n",
              "  <thead>\n",
              "    <tr style=\"text-align: right;\">\n",
              "      <th></th>\n",
              "      <th>text</th>\n",
              "      <th>is_rumor</th>\n",
              "      <th>user.handle</th>\n",
              "      <th>topic</th>\n",
              "      <th>annotation</th>\n",
              "      <th>stance</th>\n",
              "      <th>sentiment</th>\n",
              "    </tr>\n",
              "  </thead>\n",
              "  <tbody>\n",
              "    <tr>\n",
              "      <th>0</th>\n",
              "      <td>Charlie Hebdo became well known for publishing...</td>\n",
              "      <td>0.0</td>\n",
              "      <td>BBCDanielS</td>\n",
              "      <td>charliehebdo</td>\n",
              "      <td>True</td>\n",
              "      <td>support</td>\n",
              "      <td>positive</td>\n",
              "    </tr>\n",
              "    <tr>\n",
              "      <th>1</th>\n",
              "      <td>Now 10 dead in a shooting there today RT \"@BBC...</td>\n",
              "      <td>0.0</td>\n",
              "      <td>robbylevy</td>\n",
              "      <td>charliehebdo</td>\n",
              "      <td>True</td>\n",
              "      <td>support</td>\n",
              "      <td>negative</td>\n",
              "    </tr>\n",
              "    <tr>\n",
              "      <th>2</th>\n",
              "      <td>@BBCDanielS @BBCWorld I'm guessing this is bei...</td>\n",
              "      <td>0.0</td>\n",
              "      <td>ModerateInAll</td>\n",
              "      <td>charliehebdo</td>\n",
              "      <td>True</td>\n",
              "      <td>support</td>\n",
              "      <td>negative</td>\n",
              "    </tr>\n",
              "    <tr>\n",
              "      <th>3</th>\n",
              "      <td>@BBCDanielS @BBCWorld why would you mention th...</td>\n",
              "      <td>0.0</td>\n",
              "      <td>GabTarquini</td>\n",
              "      <td>charliehebdo</td>\n",
              "      <td>True</td>\n",
              "      <td>support</td>\n",
              "      <td>neutral</td>\n",
              "    </tr>\n",
              "    <tr>\n",
              "      <th>4</th>\n",
              "      <td>@BBCDanielS @BBCWorld perps identified?</td>\n",
              "      <td>0.0</td>\n",
              "      <td>freethought41</td>\n",
              "      <td>charliehebdo</td>\n",
              "      <td>True</td>\n",
              "      <td>support</td>\n",
              "      <td>neutral</td>\n",
              "    </tr>\n",
              "  </tbody>\n",
              "</table>\n",
              "</div>"
            ],
            "text/plain": [
              "                                                text  is_rumor    user.handle  \\\n",
              "0  Charlie Hebdo became well known for publishing...       0.0     BBCDanielS   \n",
              "1  Now 10 dead in a shooting there today RT \"@BBC...       0.0      robbylevy   \n",
              "2  @BBCDanielS @BBCWorld I'm guessing this is bei...       0.0  ModerateInAll   \n",
              "3  @BBCDanielS @BBCWorld why would you mention th...       0.0    GabTarquini   \n",
              "4            @BBCDanielS @BBCWorld perps identified?       0.0  freethought41   \n",
              "\n",
              "          topic  annotation   stance sentiment  \n",
              "0  charliehebdo        True  support  positive  \n",
              "1  charliehebdo        True  support  negative  \n",
              "2  charliehebdo        True  support  negative  \n",
              "3  charliehebdo        True  support   neutral  \n",
              "4  charliehebdo        True  support   neutral  "
            ]
          },
          "execution_count": 3,
          "metadata": {},
          "output_type": "execute_result"
        }
      ],
      "source": [
        "sentiment = pd.read_csv('/Digital-Twin-Systems-for-Rumor-Analysis/datasets/dataset_with_stances.csv')\n",
        "sentiment.head()"
      ]
    },
    {
      "cell_type": "code",
      "execution_count": null,
      "id": "0c29fed2",
      "metadata": {
        "id": "0c29fed2",
        "outputId": "8409e891-acdc-4ece-93cf-4a7250b19f25"
      },
      "outputs": [
        {
          "name": "stdout",
          "output_type": "stream",
          "text": [
            "Grouping posts by topic to form conversation threads...\n",
            "Successfully structured the data into 2 conversations.\n",
            "\n",
            "--- Example: 'charliehebdo' conversation ---\n",
            "Topic: charliehebdo\n",
            "Total Posts: 25491\n",
            "Source Rumor:\n",
            "  Text: Charlie Hebdo became well known for publishing the Muhammed cartoons two years ago\n",
            "  Stance: support\n",
            "  Sentiment: positive\n",
            "First Comment:\n",
            "  Text: Now 10 dead in a shooting there today RT \"@BBCDanielS: Charlie Hebdo became well known for publishing the Muhammed cartoons two years ago”\n",
            "  Stance: support\n",
            "  Sentiment: negative\n",
            "---------------------------------------------\n",
            "\n",
            "Structured conversation data has been saved to '/Digital-Twin-Systems-for-Rumor-Analysis/datasets/structured_conversations.json'.\n",
            "Your data is now ready for the final step: calculating harmfulness scores.\n"
          ]
        }
      ],
      "source": [
        "print(\"Grouping posts by topic to form conversation threads...\")\n",
        "conversations = sentiment.groupby('topic')\n",
        "\n",
        "structured_conversations = {}\n",
        "\n",
        "for topic, group in conversations:\n",
        "    posts = group.to_dict('records')\n",
        "\n",
        "    if posts:\n",
        "        posts[0]['is_source_rumor'] = True\n",
        "        for post in posts[1:]:\n",
        "            post['is_source_rumor'] = False\n",
        "\n",
        "    structured_conversations[topic] = posts\n",
        "\n",
        "print(f\"Successfully structured the data into {len(structured_conversations)} conversations.\")\n",
        "\n",
        "if 'charliehebdo' in structured_conversations:\n",
        "    print(\"\\n--- Example: 'charliehebdo' conversation ---\")\n",
        "    sample_conversation = structured_conversations['charliehebdo']\n",
        "    print(f\"Topic: charliehebdo\")\n",
        "    print(f\"Total Posts: {len(sample_conversation)}\")\n",
        "    print(\"Source Rumor:\")\n",
        "    print(f\"  Text: {sample_conversation[0]['text']}\")\n",
        "    print(f\"  Stance: {sample_conversation[0]['stance']}\")\n",
        "    print(f\"  Sentiment: {sample_conversation[0]['sentiment']}\")\n",
        "    print(\"First Comment:\")\n",
        "    if len(sample_conversation) > 1:\n",
        "        print(f\"  Text: {sample_conversation[1]['text']}\")\n",
        "        print(f\"  Stance: {sample_conversation[1]['stance']}\")\n",
        "        print(f\"  Sentiment: {sample_conversation[1]['sentiment']}\")\n",
        "    print(\"---------------------------------------------\")\n",
        "\n",
        "import json\n",
        "\n",
        "output_filename = '/Digital-Twin-Systems-for-Rumor-Analysis/datasets/structured_conversations.json'\n",
        "with open(output_filename, 'w') as f:\n",
        "    json.dump(structured_conversations, f, indent=4)\n",
        "\n",
        "print(f\"\\nStructured conversation data has been saved to '{output_filename}'.\")\n",
        "print(\"Your data is now ready for the final step: calculating harmfulness scores.\")\n"
      ]
    }
  ],
  "metadata": {
    "kernelspec": {
      "display_name": "rumorenv",
      "language": "python",
      "name": "python3"
    },
    "language_info": {
      "codemirror_mode": {
        "name": "ipython",
        "version": 3
      },
      "file_extension": ".py",
      "mimetype": "text/x-python",
      "name": "python",
      "nbconvert_exporter": "python",
      "pygments_lexer": "ipython3",
      "version": "3.13.7"
    },
    "colab": {
      "provenance": []
    }
  },
  "nbformat": 4,
  "nbformat_minor": 5
}